{
 "cells": [
  {
   "cell_type": "code",
   "execution_count": 1,
   "metadata": {},
   "outputs": [],
   "source": [
    "import networkx as nx\n",
    "import torch\n",
    "import matplotlib.pyplot as plt"
   ]
  },
  {
   "cell_type": "code",
   "execution_count": 2,
   "metadata": {},
   "outputs": [],
   "source": [
    "#  load the subgraphs\n",
    "path = 'subgraphs/complex/FB15k-237-rank1000-epoch100-subgraphs.pt'\n",
    "subgraphs = torch.load(path)"
   ]
  },
  {
   "cell_type": "code",
   "execution_count": null,
   "metadata": {},
   "outputs": [
    {
     "name": "stdout",
     "output_type": "stream",
     "text": [
      "10000\n"
     ]
    }
   ],
   "source": [
    "# subgraphs to networkx graph\n",
    "Graphs = []\n",
    "print(len(subgraphs))\n",
    "for subgraph in subgraphs:\n",
    "    G = nx.DiGraph()\n",
    "    for edge in subgraph:\n",
    "        G.add_edge(edge[0], edge[2], weight=edge[1])\n",
    "    Graphs.append(G)\n",
    "\n",
    "    \n"
   ]
  },
  {
   "cell_type": "code",
   "execution_count": 4,
   "metadata": {},
   "outputs": [
    {
     "name": "stdout",
     "output_type": "stream",
     "text": [
      "6.2678\n"
     ]
    }
   ],
   "source": [
    "# average number of nodes in the subgraphs\n",
    "num_nodes = 0\n",
    "for G in Graphs:\n",
    "    num_nodes += G.number_of_nodes()\n",
    "print(num_nodes/len(Graphs))"
   ]
  },
  {
   "cell_type": "code",
   "execution_count": 5,
   "metadata": {},
   "outputs": [
    {
     "name": "stdout",
     "output_type": "stream",
     "text": [
      "5.3822\n"
     ]
    }
   ],
   "source": [
    "# average number of edges in the subgraphs\n",
    "num_edges = 0\n",
    "for G in Graphs:\n",
    "    num_edges += G.number_of_edges()\n",
    "print(num_edges/len(Graphs))"
   ]
  },
  {
   "cell_type": "code",
   "execution_count": 14,
   "metadata": {},
   "outputs": [
    {
     "name": "stdout",
     "output_type": "stream",
     "text": [
      "[0, 21, 1036, 0, 20, 0, 0, 0, 0, 0]\n",
      "1077\n"
     ]
    }
   ],
   "source": [
    "# the number of cycles in the subgraphs\n",
    "k_cycles = [0 for _ in range(10)]\n",
    "num_cycles = 0\n",
    "for G in Graphs:\n",
    "    try :\n",
    "        k_cycles[len(nx.find_cycle(G, orientation='ignore'))] += 1\n",
    "        # if(len(nx.find_cycle(G, orientation='ignore')) == 1):\n",
    "            # print(nx.find_cycle(G, orientation='ignore'))\n",
    "        num_cycles += 1\n",
    "        # print('Cycle found')\n",
    "    except :\n",
    "        pass\n",
    "        # print('No cycle found')\n",
    "print(k_cycles)\n",
    "print(num_cycles)"
   ]
  }
 ],
 "metadata": {
  "kernelspec": {
   "display_name": "pytorch1.13",
   "language": "python",
   "name": "python3"
  },
  "language_info": {
   "codemirror_mode": {
    "name": "ipython",
    "version": 3
   },
   "file_extension": ".py",
   "mimetype": "text/x-python",
   "name": "python",
   "nbconvert_exporter": "python",
   "pygments_lexer": "ipython3",
   "version": "3.10.6"
  }
 },
 "nbformat": 4,
 "nbformat_minor": 2
}
