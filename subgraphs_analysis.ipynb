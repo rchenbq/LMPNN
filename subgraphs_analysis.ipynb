{
 "cells": [
  {
   "cell_type": "code",
   "execution_count": 15,
   "metadata": {},
   "outputs": [],
   "source": [
    "import networkx as nx\n",
    "import torch\n",
    "import matplotlib.pyplot as plt"
   ]
  },
  {
   "cell_type": "code",
   "execution_count": 21,
   "metadata": {},
   "outputs": [],
   "source": [
    "#  load the subgraphs\n",
    "path = 'subgraphs/complex/FB15k-237-rank1000-epoch100-subgraphs.pt'\n",
    "subgraphs_FB15k_237 = torch.load(path)\n",
    "path = 'subgraphs/complex/FB15k-rank1000-epoch100-subgraphs.pt'\n",
    "subgraphs_FB15k = torch.load(path)\n",
    "path = 'subgraphs/complex/NELL-rank1000-epoch100-subgraphs.pt'\n",
    "subgraphs_NELL = torch.load(path)"
   ]
  },
  {
   "cell_type": "code",
   "execution_count": 22,
   "metadata": {},
   "outputs": [
    {
     "name": "stdout",
     "output_type": "stream",
     "text": [
      "100000\n",
      "100000\n",
      "100000\n"
     ]
    }
   ],
   "source": [
    "# subgraphs to networkx graph\n",
    "\n",
    "print(len(subgraphs_FB15k_237))\n",
    "print(len(subgraphs_FB15k))\n",
    "print(len(subgraphs_NELL))\n",
    "Graphs_FB15k_237 = []\n",
    "for subgraph in subgraphs_FB15k_237:\n",
    "    G_FB15k_237 = nx.DiGraph()\n",
    "    for edge in subgraph:\n",
    "        G_FB15k_237.add_edge(edge[0], edge[2], weight=edge[1])\n",
    "    Graphs_FB15k_237.append(G_FB15k_237)\n",
    "\n",
    "Graphs_FB15k = []\n",
    "for subgraph in subgraphs_FB15k:\n",
    "    G_FB15k = nx.DiGraph()\n",
    "    for edge in subgraph:\n",
    "        G_FB15k.add_edge(edge[0], edge[2], weight=edge[1])\n",
    "    Graphs_FB15k.append(G_FB15k)\n",
    "\n",
    "Graphs_NELL = []\n",
    "for subgraph in subgraphs_NELL:\n",
    "    G_NELL = nx.DiGraph()\n",
    "    for edge in subgraph:\n",
    "        G_NELL.add_edge(edge[0], edge[2], weight=edge[1])\n",
    "    Graphs_NELL.append(G_NELL)\n",
    "    \n"
   ]
  },
  {
   "cell_type": "code",
   "execution_count": 23,
   "metadata": {},
   "outputs": [
    {
     "name": "stdout",
     "output_type": "stream",
     "text": [
      "6.29743\n",
      "5.86865\n",
      "5.20378\n"
     ]
    }
   ],
   "source": [
    "# average number of nodes in the subgraphs\n",
    "num_nodes = 0\n",
    "for G in Graphs_FB15k_237:\n",
    "    num_nodes += G.number_of_nodes()\n",
    "print(num_nodes/len(Graphs_FB15k_237))\n",
    "\n",
    "num_nodes = 0\n",
    "for G in Graphs_FB15k:\n",
    "    num_nodes += G.number_of_nodes()\n",
    "print(num_nodes/len(Graphs_FB15k))\n",
    "\n",
    "num_nodes = 0\n",
    "for G in Graphs_NELL:\n",
    "    num_nodes += G.number_of_nodes()\n",
    "print(num_nodes/len(Graphs_NELL))"
   ]
  },
  {
   "cell_type": "code",
   "execution_count": 24,
   "metadata": {},
   "outputs": [
    {
     "name": "stdout",
     "output_type": "stream",
     "text": [
      "5.41782\n",
      "5.18268\n",
      "4.67094\n"
     ]
    }
   ],
   "source": [
    "# average number of edges in the subgraphs\n",
    "num_edges = 0\n",
    "for G in Graphs_FB15k_237:\n",
    "    num_edges += G.number_of_edges()\n",
    "print(num_edges/len(Graphs_FB15k_237))\n",
    "\n",
    "num_edges = 0\n",
    "for G in Graphs_FB15k:\n",
    "    num_edges += G.number_of_edges()\n",
    "print(num_edges/len(Graphs_FB15k))\n",
    "\n",
    "num_edges = 0\n",
    "for G in Graphs_NELL:\n",
    "    num_edges += G.number_of_edges()\n",
    "print(num_edges/len(Graphs_NELL))"
   ]
  },
  {
   "cell_type": "code",
   "execution_count": 25,
   "metadata": {},
   "outputs": [
    {
     "name": "stdout",
     "output_type": "stream",
     "text": [
      "[0, 189, 10948, 21, 169, 3, 5, 0, 0, 0]\n",
      "11335\n",
      "[0, 221, 18577, 22, 5772, 4, 20, 0, 1, 0]\n",
      "24617\n",
      "[0, 1178, 36397, 285, 173, 31, 7, 0, 0, 0]\n",
      "38071\n"
     ]
    }
   ],
   "source": [
    "# the number of cycles in the subgraphs\n",
    "k_cycles = [0 for _ in range(10)]\n",
    "num_cycles = 0\n",
    "for G in Graphs_FB15k_237:\n",
    "    try :\n",
    "        k_cycles[len(nx.find_cycle(G, orientation='ignore'))] += 1\n",
    "        # if(len(nx.find_cycle(G, orientation='ignore')) == 1):\n",
    "            # print(nx.find_cycle(G, orientation='ignore'))\n",
    "        num_cycles += 1\n",
    "        # print('Cycle found')\n",
    "    except :\n",
    "        pass\n",
    "        # print('No cycle found')\n",
    "print(k_cycles)\n",
    "print(num_cycles)\n",
    "\n",
    "k_cycles = [0 for _ in range(10)]\n",
    "num_cycles = 0\n",
    "for G in Graphs_FB15k:\n",
    "    try :\n",
    "        k_cycles[len(nx.find_cycle(G, orientation='ignore'))] += 1\n",
    "        num_cycles += 1\n",
    "    except :\n",
    "        pass\n",
    "print(k_cycles)\n",
    "print(num_cycles)\n",
    "\n",
    "k_cycles = [0 for _ in range(10)]\n",
    "num_cycles = 0\n",
    "for G in Graphs_NELL:\n",
    "    try :\n",
    "        k_cycles[len(nx.find_cycle(G, orientation='ignore'))] += 1\n",
    "        num_cycles += 1\n",
    "    except :\n",
    "        pass\n",
    "print(k_cycles)\n",
    "print(num_cycles)"
   ]
  }
 ],
 "metadata": {
  "kernelspec": {
   "display_name": "pytorch1.13",
   "language": "python",
   "name": "python3"
  },
  "language_info": {
   "codemirror_mode": {
    "name": "ipython",
    "version": 3
   },
   "file_extension": ".py",
   "mimetype": "text/x-python",
   "name": "python",
   "nbconvert_exporter": "python",
   "pygments_lexer": "ipython3",
   "version": "3.10.6"
  }
 },
 "nbformat": 4,
 "nbformat_minor": 2
}
